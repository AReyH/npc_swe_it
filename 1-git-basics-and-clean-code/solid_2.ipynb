{
 "cells": [
  {
   "cell_type": "markdown",
   "id": "21caaa7e",
   "metadata": {},
   "source": [
    "### **Single Responsibility Principle**"
   ]
  },
  {
   "cell_type": "code",
   "execution_count": null,
   "id": "231d58a9",
   "metadata": {},
   "outputs": [],
   "source": [
    "class Student:\n",
    "    def __init__(self,student_id,first_name,last_name,email):\n",
    "        # Student details\n",
    "        self.student_id = student_id\n",
    "        self.first_name = first_name\n",
    "        self.last_name = last_name\n",
    "        self.email = email\n",
    "\n",
    "    def save(self):\n",
    "        # Code to save student to database\n",
    "        pass\n",
    "\n",
    "    def email(self,subject,body):\n",
    "        # Code to email students\n",
    "        pass\n",
    "\n",
    "    def enrol(self,course):\n",
    "        # Code to enrol the student in a course\n",
    "        pass\n",
    "    \n"
   ]
  },
  {
   "cell_type": "code",
   "execution_count": null,
   "id": "11596e7f",
   "metadata": {},
   "outputs": [],
   "source": [
    "class Student:\n",
    "    def __init__(self, student_id, first_name, last_name, email):\n",
    "        self.student_id = student_id\n",
    "        self.first_name = first_name\n",
    "        self.last_name = last_name\n",
    "        self.email = email\n",
    "\n",
    "\n",
    "class StudentRepository:\n",
    "    def save(self, student: Student):\n",
    "        # Code to save student to database\n",
    "        pass\n",
    "\n",
    "\n",
    "class EmailService:\n",
    "    def send_email(self, student: Student, subject: str, body: str):\n",
    "        # Code to email the student\n",
    "        pass\n",
    "\n",
    "\n",
    "class EnrollmentService:\n",
    "    def enrol(self, student: Student, course: str):\n",
    "        # Code to enrol the student in a course\n",
    "        pass\n"
   ]
  },
  {
   "cell_type": "markdown",
   "id": "c63b726a",
   "metadata": {},
   "source": [
    "### **Open/Closed Principle**"
   ]
  },
  {
   "cell_type": "code",
   "execution_count": 3,
   "id": "27c7c6a7",
   "metadata": {},
   "outputs": [],
   "source": [
    "class PaymentProcessor:\n",
    "    def process(self, method, amount):\n",
    "        if method == \"credit_card\":\n",
    "            print(\"Processing credit card payment\")\n",
    "        elif method == \"paypal\":\n",
    "            print(\"Processing PayPal payment\")\n",
    "        else:\n",
    "            raise ValueError(\"Unknown payment method\")\n"
   ]
  },
  {
   "cell_type": "code",
   "execution_count": null,
   "id": "0d704eb7",
   "metadata": {},
   "outputs": [],
   "source": [
    "class PaymentMethod():\n",
    "    def pay(self, amount): pass\n",
    "\n",
    "class CreditCardPayment(PaymentMethod):\n",
    "    def pay(self, amount):\n",
    "        print(\"Processing credit card payment\")\n",
    "\n",
    "class PayPalPayment(PaymentMethod):\n",
    "    def pay(self, amount):\n",
    "        print(\"Processing PayPal payment\")\n",
    "\n",
    "class PaymentProcessor:\n",
    "    def process(self, payment_method: PaymentMethod, amount):\n",
    "        payment_method.pay(amount)\n"
   ]
  },
  {
   "cell_type": "markdown",
   "id": "6eda6563",
   "metadata": {},
   "source": [
    "### **Liskov Substitution Principle**"
   ]
  },
  {
   "cell_type": "code",
   "execution_count": 5,
   "id": "89853d74",
   "metadata": {},
   "outputs": [],
   "source": [
    "class Human:\n",
    "    def eat(self):\n",
    "        print(\"Eating\")\n",
    "\n",
    "    def sleep(self):\n",
    "        print(\"Sleeping\")\n",
    "\n",
    "    def go_to_work(self):\n",
    "        print(\"Going to work\")\n",
    "\n",
    "    def make_dinner(self):\n",
    "        print(\"Making dinner\")\n",
    "\n",
    "class Child(Human):\n",
    "    def go_to_work(self):\n",
    "        raise Exception(\"Children can't work\")\n",
    "\n",
    "    def make_dinner(self):\n",
    "        raise Exception(\"Children can't make dinner\")\n"
   ]
  },
  {
   "cell_type": "code",
   "execution_count": 4,
   "id": "720f45ab",
   "metadata": {},
   "outputs": [],
   "source": [
    "class Human:\n",
    "    def eat(self):\n",
    "        print(\"Eating\")\n",
    "\n",
    "    def sleep(self):\n",
    "        print(\"Sleeping\")\n",
    "\n",
    "class Adult(Human):\n",
    "    def go_to_work(self):\n",
    "        print(\"Going to work\")\n",
    "\n",
    "    def make_dinner(self):\n",
    "        print(\"Making dinner\")\n",
    "\n",
    "class Child(Human):\n",
    "    def play(self):\n",
    "        print(\"Playing\")\n"
   ]
  },
  {
   "cell_type": "markdown",
   "id": "9b210cb5",
   "metadata": {},
   "source": [
    "### **Interface Segregation**"
   ]
  },
  {
   "cell_type": "code",
   "execution_count": null,
   "id": "bf4ffabe",
   "metadata": {},
   "outputs": [],
   "source": [
    "class Printer:\n",
    "    def print_document(self, doc):\n",
    "        pass\n",
    "\n",
    "    def scan_document(self, doc):\n",
    "        pass\n",
    "\n",
    "    def fax_document(self, doc):\n",
    "        pass\n",
    "\n",
    "\n",
    "class SimplePrinter(Printer):\n",
    "    def print_document(self, doc):\n",
    "        print(f\"Printing: {doc}\")\n",
    "\n",
    "    def scan_document(self, doc):\n",
    "        raise Exception(\"This printer can't scan\")\n",
    "\n",
    "    def fax_document(self, doc):\n",
    "        raise Exception(\"This printer can't fax\")\n",
    "\n",
    "# Problem: A SimplePrinter is forced to implement scan_document \n",
    "# and fax_document methods even though it can’t do them. \n",
    "# That’s wasted, misleading, and violates ISP.\n"
   ]
  },
  {
   "cell_type": "code",
   "execution_count": 9,
   "id": "6b6e727e",
   "metadata": {},
   "outputs": [],
   "source": [
    "class Printable:\n",
    "    def print_document(self, doc):\n",
    "        pass\n",
    "\n",
    "class Scannable:\n",
    "    def scan_document(self, doc):\n",
    "        pass\n",
    "\n",
    "class Faxable:\n",
    "    def fax_document(self, doc):\n",
    "        pass\n",
    "\n",
    "\n",
    "class SimplePrinter(Printable):\n",
    "    def print_document(self, doc):\n",
    "        print(f\"Printing: {doc}\")\n",
    "\n",
    "\n",
    "class MultiFunctionPrinter(Printable, Scannable, Faxable):\n",
    "    def print_document(self, doc):\n",
    "        print(f\"Printing: {doc}\")\n",
    "\n",
    "    def scan_document(self, doc):\n",
    "        print(f\"Scanning: {doc}\")\n",
    "\n",
    "    def fax_document(self, doc):\n",
    "        print(f\"Faxing: {doc}\")\n",
    "\n",
    "\n",
    "# Now, SimplePrinter only implements what it really supports, \n",
    "# and MultiFunctionPrinter can support more features by composing \n",
    "# multiple interfaces."
   ]
  },
  {
   "cell_type": "markdown",
   "id": "1d60c371",
   "metadata": {},
   "source": [
    "### **Dependency Inversion Principle**"
   ]
  },
  {
   "cell_type": "code",
   "execution_count": 6,
   "id": "a2873252",
   "metadata": {},
   "outputs": [],
   "source": [
    "class MySQLDatabase:\n",
    "    def save(self, data):\n",
    "        print(\"Saving to MySQL\")\n",
    "\n",
    "class StudentRepository:\n",
    "    def __init__(self):\n",
    "        self.db = MySQLDatabase()  # Tight coupling\n",
    "    def save(self, student):\n",
    "        self.db.save(student)\n"
   ]
  },
  {
   "cell_type": "code",
   "execution_count": null,
   "id": "f30dda12",
   "metadata": {},
   "outputs": [],
   "source": [
    "class Database():\n",
    "    def save(self, data): \n",
    "        pass\n",
    "\n",
    "class MySQLDatabase(Database):\n",
    "    def save(self, data):\n",
    "        print(\"Saving to MySQL\")\n",
    "\n",
    "class MongoDB(Database):\n",
    "    def save(self, data):\n",
    "        print(\"Saving to MongoDB\")\n",
    "\n",
    "class StudentRepository:\n",
    "    def __init__(self, db: Database):  \n",
    "        self.db = db\n",
    "    def save(self, student):\n",
    "        self.db.save(student)\n"
   ]
  },
  {
   "cell_type": "code",
   "execution_count": null,
   "id": "0df53774",
   "metadata": {},
   "outputs": [],
   "source": []
  }
 ],
 "metadata": {
  "kernelspec": {
   "display_name": "1-git-basics-and-clean-code",
   "language": "python",
   "name": "python3"
  },
  "language_info": {
   "codemirror_mode": {
    "name": "ipython",
    "version": 3
   },
   "file_extension": ".py",
   "mimetype": "text/x-python",
   "name": "python",
   "nbconvert_exporter": "python",
   "pygments_lexer": "ipython3",
   "version": "3.13.5"
  }
 },
 "nbformat": 4,
 "nbformat_minor": 5
}
